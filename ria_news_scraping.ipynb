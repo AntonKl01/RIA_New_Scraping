{
 "cells": [
  {
   "cell_type": "markdown",
   "metadata": {},
   "source": [
    "## Парсинг URL (\"Риа Новости\")"
   ]
  },
  {
   "cell_type": "code",
   "execution_count": 1,
   "metadata": {},
   "outputs": [],
   "source": [
    "from selenium.webdriver import Chrome\n",
    "from selenium.webdriver.chrome.options import Options\n",
    "from selenium.webdriver.common.by import By"
   ]
  },
  {
   "cell_type": "code",
   "execution_count": 2,
   "metadata": {},
   "outputs": [],
   "source": [
    "import tqdm\n",
    "import json\n",
    "import re\n",
    "import math"
   ]
  },
  {
   "cell_type": "code",
   "execution_count": 3,
   "metadata": {},
   "outputs": [],
   "source": [
    "chrome_driver_path = \"/home/arklykov/chromedriver.exe\""
   ]
  },
  {
   "cell_type": "code",
   "execution_count": 15,
   "metadata": {},
   "outputs": [
    {
     "name": "stderr",
     "output_type": "stream",
     "text": [
      "/tmp/ipykernel_47173/2512148171.py:7: DeprecationWarning: executable_path has been deprecated, please pass in a Service object\n",
      "  driver = Chrome(executable_path=chrome_driver_path, chrome_options=chrome_options)\n",
      "/tmp/ipykernel_47173/2512148171.py:7: DeprecationWarning: use options instead of chrome_options\n",
      "  driver = Chrome(executable_path=chrome_driver_path, chrome_options=chrome_options)\n"
     ]
    },
    {
     "name": "stdout",
     "output_type": "stream",
     "text": [
      "Current session is 06f026ae8ebd9c2960721af3f4e53b63\n"
     ]
    }
   ],
   "source": [
    "prefs = {\"profile.managed_default_content_settings.images\": 2,\n",
    "             \"profile.default_content_settings.cookies\": 2}\n",
    "chrome_options = Options()\n",
    "chrome_options.add_extension('education/adblock.crx')\n",
    "chrome_options.add_experimental_option(\"prefs\", prefs)\n",
    "chrome_options.add_argument('--disable-application-cache')\n",
    "driver = Chrome(executable_path=chrome_driver_path, chrome_options=chrome_options)\n",
    "driver.implicitly_wait(10)\n",
    "print(\"Current session is {}\".format(driver.session_id))\n",
    "driver.switch_to.window(driver.window_handles[0])\n",
    "driver.get('chrome-extension://gighmmpiobklfepjocnamgkkbiglidom/options.html')\n",
    "driver.find_element(By.ID, 'acceptable_ads').click()"
   ]
  },
  {
   "cell_type": "code",
   "execution_count": 4,
   "metadata": {},
   "outputs": [],
   "source": [
    "categories = ['economy', 'science', 'culture']\n",
    "sport_categories = ['football', 'hockey', 'tennis', 'figure_skating', 'fights', 'category_formula_1', 'biathlon', 'zozh']"
   ]
  },
  {
   "cell_type": "code",
   "execution_count": 5,
   "metadata": {},
   "outputs": [],
   "source": [
    "links_filename = \"files/links.txt\""
   ]
  },
  {
   "cell_type": "code",
   "execution_count": 6,
   "metadata": {},
   "outputs": [],
   "source": [
    "def parce_links_categories(category, output):\n",
    "    driver.get(f\"https://ria.ru/{category}/\")\n",
    "    load_elements = re.findall(r'\\d+', driver.find_element(By.CLASS_NAME, 'list-more').text)\n",
    "    load_elements = int(load_elements[0])\n",
    "    for element in driver.find_elements(By.CLASS_NAME, 'list-item'):\n",
    "        with open(output,'a') as file:\n",
    "            file.write(json.dumps({\n",
    "                'link' : element.find_element(By.CLASS_NAME, 'list-item__image').get_attribute('href'),\n",
    "                'category': category\n",
    "            },ensure_ascii=False) + '\\n')\n",
    "    new_url = driver.find_element(By.CLASS_NAME, 'list-more').get_attribute('data-url')\n",
    "\n",
    "    steps = math.ceil(1000 / load_elements)\n",
    "    for step in range(steps):\n",
    "        driver.get(f\"https://ria.ru{new_url}\")\n",
    "\n",
    "        for element in driver.find_elements(By.CLASS_NAME, 'list-item'):\n",
    "            with open(output,'a') as file:\n",
    "                file.write(json.dumps({\n",
    "                    'link' : element.find_element(By.CLASS_NAME, 'list-item__image').get_attribute('href'),\n",
    "                    'category': category\n",
    "                },ensure_ascii=False) + '\\n')\n",
    "        new_url = driver.find_element(By.CLASS_NAME, 'list-items-loaded').get_attribute('data-next-url')    "
   ]
  },
  {
   "cell_type": "code",
   "execution_count": 7,
   "metadata": {},
   "outputs": [],
   "source": [
    "def parce_links_sport_categories(category, output):\n",
    "    driver.get(f\"https://rsport.ria.ru/{category}\")\n",
    "    load_elements = re.findall(r'\\d+', driver.find_element(By.CLASS_NAME, 'list-more').text)\n",
    "    load_elements = int(load_elements[0])\n",
    "    for element in driver.find_elements(By.CLASS_NAME, 'list-item'):\n",
    "        with open(output,'a') as file:\n",
    "            file.write(json.dumps({\n",
    "                'link' : element.find_element(By.CLASS_NAME, 'list-item__image').get_attribute('href'),\n",
    "                'category': 'sport'\n",
    "            },ensure_ascii=False) + '\\n')\n",
    "    new_url = driver.find_element(By.CLASS_NAME, 'list-more').get_attribute('data-url')\n",
    "\n",
    "    steps = math.ceil(125 / load_elements)\n",
    "    for step in range(steps):\n",
    "        driver.get(f\"https://rsport.ria.ru{new_url}\")\n",
    "\n",
    "        for element in driver.find_elements(By.CLASS_NAME, 'list-item'):\n",
    "            with open(output,'a') as file:\n",
    "                file.write(json.dumps({\n",
    "                    'link' : element.find_element(By.CLASS_NAME, 'list-item__image').get_attribute('href'),\n",
    "                    'category': 'sport'\n",
    "                },ensure_ascii=False) + '\\n')\n",
    "        new_url = driver.find_element(By.CLASS_NAME, 'list-items-loaded').get_attribute('data-next-url')"
   ]
  },
  {
   "cell_type": "code",
   "execution_count": 159,
   "metadata": {},
   "outputs": [],
   "source": [
    "for category in categories:\n",
    "    parce_links_categories(category, links_filename)"
   ]
  },
  {
   "cell_type": "code",
   "execution_count": 160,
   "metadata": {},
   "outputs": [],
   "source": [
    "for sport_caterory in sport_categories:\n",
    "    parce_links_sport_categories(sport_caterory, links_filename)"
   ]
  },
  {
   "cell_type": "markdown",
   "metadata": {},
   "source": [
    "## Парсинг новостей с \"Риа Новости\""
   ]
  },
  {
   "cell_type": "code",
   "execution_count": 77,
   "metadata": {},
   "outputs": [],
   "source": [
    "import requests\n",
    "from bs4 import BeautifulSoup\n",
    "from html2text import html2text"
   ]
  },
  {
   "cell_type": "code",
   "execution_count": 78,
   "metadata": {},
   "outputs": [],
   "source": [
    "catalog_filename = \"files/catalog.txt\""
   ]
  },
  {
   "cell_type": "code",
   "execution_count": 79,
   "metadata": {},
   "outputs": [],
   "source": [
    "posts = []\n",
    "with open(links_filename, 'r') as file:\n",
    "    for line in file:\n",
    "        posts.append(json.loads(line))"
   ]
  },
  {
   "cell_type": "code",
   "execution_count": 82,
   "metadata": {},
   "outputs": [],
   "source": [
    "def create_document_bs(post, output):\n",
    "    article_id = post['link']\n",
    "    category = post['category']\n",
    "\n",
    "    bsoup = BeautifulSoup(requests.get(article_id).text, 'lxml')\n",
    "\n",
    "    title = bsoup.find('meta', attrs={'name': 'analytics:title'}).get(key='content')\n",
    "\n",
    "    tags = bsoup.find('meta', attrs={'name': 'analytics:tags'}).get(key='content')\n",
    "\n",
    "    text = bsoup.find('div', class_='article__body').find_all('div', attrs={'data-type':'text'})\n",
    "    text = [t.text for t in text]\n",
    "    text = \"\".join(text)\n",
    "    \n",
    "    with open(output,'a') as file:\n",
    "        file.write(json.dumps({\n",
    "            \"article_id\": article_id,\n",
    "            \"title\": title,\n",
    "            \"category\": category,\n",
    "            \"tags\": tags,\n",
    "            \"text\": text\n",
    "        },ensure_ascii=False) + '\\n')"
   ]
  },
  {
   "cell_type": "code",
   "execution_count": 83,
   "metadata": {},
   "outputs": [
    {
     "name": "stderr",
     "output_type": "stream",
     "text": [
      "100%|██████████| 4244/4244 [1:06:40<00:00,  1.06it/s]\n"
     ]
    }
   ],
   "source": [
    "for post in tqdm.tqdm(posts):\n",
    "    create_document_bs(post, catalog_filename)"
   ]
  },
  {
   "cell_type": "code",
   "execution_count": 84,
   "metadata": {},
   "outputs": [],
   "source": [
    "catalog = []\n",
    "with open(catalog_filename, 'r') as file:\n",
    "    for line in file:\n",
    "        catalog.append(json.loads(line))"
   ]
  },
  {
   "cell_type": "code",
   "execution_count": 90,
   "metadata": {},
   "outputs": [],
   "source": [
    "corpus = {\n",
    "    \"catalog\": catalog\n",
    "}"
   ]
  },
  {
   "cell_type": "code",
   "execution_count": 93,
   "metadata": {},
   "outputs": [],
   "source": [
    "corpus_filename = 'files/corpus.json'"
   ]
  },
  {
   "cell_type": "code",
   "execution_count": 92,
   "metadata": {},
   "outputs": [],
   "source": [
    "with open(corpus_filename, 'w') as file:\n",
    "    file.write(json.dumps(corpus, ensure_ascii=False) + '\\n')"
   ]
  },
  {
   "cell_type": "markdown",
   "metadata": {},
   "source": [
    "## Обзор данных"
   ]
  },
  {
   "cell_type": "code",
   "execution_count": 98,
   "metadata": {},
   "outputs": [],
   "source": [
    "import pandas as pd"
   ]
  },
  {
   "cell_type": "code",
   "execution_count": 95,
   "metadata": {},
   "outputs": [],
   "source": [
    "with open(corpus_filename, 'r') as file:\n",
    "    corpus_ = json.load(file)"
   ]
  },
  {
   "cell_type": "code",
   "execution_count": 99,
   "metadata": {},
   "outputs": [],
   "source": [
    "frame_corpus_ = pd.DataFrame(corpus_['catalog'])"
   ]
  },
  {
   "cell_type": "code",
   "execution_count": 102,
   "metadata": {},
   "outputs": [
    {
     "data": {
      "text/html": [
       "<div>\n",
       "<style scoped>\n",
       "    .dataframe tbody tr th:only-of-type {\n",
       "        vertical-align: middle;\n",
       "    }\n",
       "\n",
       "    .dataframe tbody tr th {\n",
       "        vertical-align: top;\n",
       "    }\n",
       "\n",
       "    .dataframe thead th {\n",
       "        text-align: right;\n",
       "    }\n",
       "</style>\n",
       "<table border=\"1\" class=\"dataframe\">\n",
       "  <thead>\n",
       "    <tr style=\"text-align: right;\">\n",
       "      <th></th>\n",
       "      <th>article_id</th>\n",
       "      <th>title</th>\n",
       "      <th>category</th>\n",
       "      <th>tags</th>\n",
       "      <th>text</th>\n",
       "    </tr>\n",
       "  </thead>\n",
       "  <tbody>\n",
       "    <tr>\n",
       "      <th>0</th>\n",
       "      <td>https://ria.ru/20230115/neft-1845019942.html</td>\n",
       "      <td>Иран ограничит поставки дешевой нефти в Сирию,...</td>\n",
       "      <td>economy</td>\n",
       "      <td>Экономика, Цены на нефть, Сирия, Иран, Дамаск ...</td>\n",
       "      <td>ВАШИНГТОН, 15 янв - РИА Новости. Иран ограничи...</td>\n",
       "    </tr>\n",
       "    <tr>\n",
       "      <th>1</th>\n",
       "      <td>https://ria.ru/20230115/mestorozhdenie-1845012...</td>\n",
       "      <td>Итальянская нефтегазовая компания обнаружила н...</td>\n",
       "      <td>economy</td>\n",
       "      <td>Экономика, Цены на нефть, Египет, Средиземное ...</td>\n",
       "      <td>РИМ, 15 янв - РИА Новости. Итальянская нефтега...</td>\n",
       "    </tr>\n",
       "    <tr>\n",
       "      <th>2</th>\n",
       "      <td>https://ria.ru/20230115/inflyatsiya-1844997935...</td>\n",
       "      <td>Инфляция в России может приблизиться к пяти пр...</td>\n",
       "      <td>economy</td>\n",
       "      <td>Россия, Экономика, Владимир Путин, Павел Зарубин</td>\n",
       "      <td>ПЕТРОПАВЛОВСК-КАМЧАТСКИЙ, 15 янв - РИА Новости...</td>\n",
       "    </tr>\n",
       "    <tr>\n",
       "      <th>3</th>\n",
       "      <td>https://ria.ru/20230115/ekonomika-1844996743.html</td>\n",
       "      <td>Путин назвал ситуацию в российской экономике с...</td>\n",
       "      <td>economy</td>\n",
       "      <td>Экономика, Цены на нефть, Владимир Путин, Паве...</td>\n",
       "      <td>ПЕТРОПАВЛОВСК-КАМЧАТСКИЙ, 15 янв — РИА Новости...</td>\n",
       "    </tr>\n",
       "    <tr>\n",
       "      <th>4</th>\n",
       "      <td>https://ria.ru/20230115/neft-1844714708.html</td>\n",
       "      <td>Редкие сорта: азиаты скупают российскую арктич...</td>\n",
       "      <td>economy</td>\n",
       "      <td>Экономика, Китай, Россия, Индия, Международное...</td>\n",
       "      <td>МОСКВА, 15 янв — РИА Новости, Наталья Дембинск...</td>\n",
       "    </tr>\n",
       "  </tbody>\n",
       "</table>\n",
       "</div>"
      ],
      "text/plain": [
       "                                          article_id  \\\n",
       "0       https://ria.ru/20230115/neft-1845019942.html   \n",
       "1  https://ria.ru/20230115/mestorozhdenie-1845012...   \n",
       "2  https://ria.ru/20230115/inflyatsiya-1844997935...   \n",
       "3  https://ria.ru/20230115/ekonomika-1844996743.html   \n",
       "4       https://ria.ru/20230115/neft-1844714708.html   \n",
       "\n",
       "                                               title category  \\\n",
       "0  Иран ограничит поставки дешевой нефти в Сирию,...  economy   \n",
       "1  Итальянская нефтегазовая компания обнаружила н...  economy   \n",
       "2  Инфляция в России может приблизиться к пяти пр...  economy   \n",
       "3  Путин назвал ситуацию в российской экономике с...  economy   \n",
       "4  Редкие сорта: азиаты скупают российскую арктич...  economy   \n",
       "\n",
       "                                                tags  \\\n",
       "0  Экономика, Цены на нефть, Сирия, Иран, Дамаск ...   \n",
       "1  Экономика, Цены на нефть, Египет, Средиземное ...   \n",
       "2   Россия, Экономика, Владимир Путин, Павел Зарубин   \n",
       "3  Экономика, Цены на нефть, Владимир Путин, Паве...   \n",
       "4  Экономика, Китай, Россия, Индия, Международное...   \n",
       "\n",
       "                                                text  \n",
       "0  ВАШИНГТОН, 15 янв - РИА Новости. Иран ограничи...  \n",
       "1  РИМ, 15 янв - РИА Новости. Итальянская нефтега...  \n",
       "2  ПЕТРОПАВЛОВСК-КАМЧАТСКИЙ, 15 янв - РИА Новости...  \n",
       "3  ПЕТРОПАВЛОВСК-КАМЧАТСКИЙ, 15 янв — РИА Новости...  \n",
       "4  МОСКВА, 15 янв — РИА Новости, Наталья Дембинск...  "
      ]
     },
     "execution_count": 102,
     "metadata": {},
     "output_type": "execute_result"
    }
   ],
   "source": [
    "frame_corpus_.head()"
   ]
  },
  {
   "cell_type": "code",
   "execution_count": null,
   "metadata": {},
   "outputs": [],
   "source": []
  }
 ],
 "metadata": {
  "kernelspec": {
   "display_name": "Python 3 (ipykernel)",
   "language": "python",
   "name": "python3"
  },
  "language_info": {
   "codemirror_mode": {
    "name": "ipython",
    "version": 3
   },
   "file_extension": ".py",
   "mimetype": "text/x-python",
   "name": "python",
   "nbconvert_exporter": "python",
   "pygments_lexer": "ipython3",
   "version": "3.8.10"
  },
  "vscode": {
   "interpreter": {
    "hash": "c7d3ebd82edecee7caa3c6068d0e529c2d3c77002b6936268cfaa938ff641947"
   }
  }
 },
 "nbformat": 4,
 "nbformat_minor": 2
}
